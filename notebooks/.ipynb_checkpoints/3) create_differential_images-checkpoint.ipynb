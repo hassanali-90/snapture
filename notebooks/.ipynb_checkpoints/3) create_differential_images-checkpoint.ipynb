{
 "cells": [
  {
   "cell_type": "code",
   "execution_count": 1,
   "metadata": {},
   "outputs": [],
   "source": [
    "import sys\n",
    "import os\n",
    "from PIL import Image\n",
    "from matplotlib.pyplot import imshow\n",
    "import numpy as np\n",
    "import io\n",
    "import cv2\n",
    "import re"
   ]
  },
  {
   "cell_type": "code",
   "execution_count": 2,
   "metadata": {},
   "outputs": [
    {
     "data": {
      "text/plain": [
       "'\\n- expected folder structure: the source frames should be arranged as follows:\\n\\nMontalbano:\\n - training:\\n   - Samplexxxxx_color\\n       - 0.jpg\\n       - 1.jpg\\n       - 2.jpg\\n       - ...\\n   - Samplexxxxx_color\\n - test:\\n   - Samplexxxxx_color\\n   - Samplexxxxx_color\\n - validation:\\n   - Samplexxxxx_color\\n   - Samplexxxxx_color\\n   \\nGRIT:\\n - abort:\\n   - 1_0\\n       - 2015-03-30 15_21_36.965829.jpg\\n       - 2015-03-30 15_21_37.045439.jpg\\n       - 2015-03-30 15_21_37.127836.jpg\\n       - ...\\n   - 1_1\\n - circle:\\n   - 1_1\\n   - 1_2\\n - ...\\n\\n\\n'"
      ]
     },
     "execution_count": 2,
     "metadata": {},
     "output_type": "execute_result"
    }
   ],
   "source": [
    "'''\n",
    "- expected folder structure: the source frames should be arranged as follows:\n",
    "\n",
    "Montalbano:\n",
    " - training:\n",
    "   - Samplexxxxx_color\n",
    "       - 0.jpg\n",
    "       - 1.jpg\n",
    "       - 2.jpg\n",
    "       - ...\n",
    "   - Samplexxxxx_color\n",
    " - test:\n",
    "   - Samplexxxxx_color\n",
    "   - Samplexxxxx_color\n",
    " - validation:\n",
    "   - Samplexxxxx_color\n",
    "   - Samplexxxxx_color\n",
    "   \n",
    "GRIT:\n",
    " - abort:\n",
    "   - 1_0\n",
    "       - 2015-03-30 15_21_36.965829.jpg\n",
    "       - 2015-03-30 15_21_37.045439.jpg\n",
    "       - 2015-03-30 15_21_37.127836.jpg\n",
    "       - ...\n",
    "   - 1_1\n",
    " - circle:\n",
    "   - 1_1\n",
    "   - 1_2\n",
    " - ...\n",
    "\n",
    "\n",
    "'''"
   ]
  },
  {
   "cell_type": "code",
   "execution_count": 3,
   "metadata": {},
   "outputs": [],
   "source": [
    "def differential_images(frames, filenames):\n",
    "    result = []\n",
    "    for index, frame in enumerate(frames[1:-1]):\n",
    "        temp = cv2.bitwise_and(cv2.absdiff(frames[index + 2], frames[index + 1]), cv2.absdiff(frames[index + 1], frames[index]))\n",
    "        #imshow(temp)\n",
    "        result.append(temp)\n",
    "    return result, filenames"
   ]
  },
  {
   "cell_type": "code",
   "execution_count": 4,
   "metadata": {},
   "outputs": [],
   "source": [
    "def read_frames(path, timestamp = False):\n",
    "    frames = []\n",
    "    filenames = []\n",
    "    if timestamp:\n",
    "        sorted_dir = sorted(os.listdir(path))\n",
    "    else:\n",
    "        sorted_dir = sorted(os.listdir(path), key=lambda x: int(re.split(r'(\\d+)', x)[1])) #sort by name, consider -start, -end\n",
    "    for filename in sorted_dir:\n",
    "        frames.append(cv2.resize(cv2.imread(os.path.join(path,filename), 0), (64, 48))) #read as grayscale, resize\n",
    "        #frames.append(cv2.resize(cv2.imread(os.path.join(path,filename), 0), (640, 480))) #use for testing\n",
    "        filenames.append(filename)\n",
    "    return frames, filenames #frames, names (needed for writing)"
   ]
  },
  {
   "cell_type": "code",
   "execution_count": 5,
   "metadata": {},
   "outputs": [],
   "source": [
    "def process(path, target_path, timestamp = False):\n",
    "    for folder in os.listdir(path): #training, test, etc. circle, abort #etc\n",
    "        target_folder = os.path.join(target_path, folder)\n",
    "        if not os.path.exists(target_folder):\n",
    "            os.mkdir(target_folder)\n",
    "        for subfolder in os.listdir(os.path.join(path, folder)): #Sample00021_color, Sample00022_color, etc. 1_0, 1_1 etc.\n",
    "            if (subfolder.startswith(str(\"\"))): #use for testing\n",
    "                print(subfolder)\n",
    "                frames, filenames = read_frames(os.path.join(path, folder, subfolder), timestamp)\n",
    "                frames, filenames = differential_images(frames, filenames)\n",
    "                #print(filenames)\n",
    "                count = 1\n",
    "                for index, frame in enumerate(frames):\n",
    "                    target_subfolder = os.path.join(target_path, folder, subfolder)\n",
    "                    if not os.path.exists(target_subfolder):\n",
    "                        os.mkdir(target_subfolder)\n",
    "                    if timestamp:\n",
    "                        cv2.imwrite(os.path.join(target_path, folder, subfolder, str(count)+'.jpg'), frame)\n",
    "                    else:\n",
    "                        cv2.imwrite(os.path.join(target_path, folder, subfolder, str(filenames[index])), frame)\n",
    "                    count = count + 1\n"
   ]
  },
  {
   "cell_type": "code",
   "execution_count": 6,
   "metadata": {
    "scrolled": true
   },
   "outputs": [
    {
     "name": "stdout",
     "output_type": "stream",
     "text": [
      "Sample00308_color\n",
      "Sample00309_color\n",
      "Sample00310_color\n",
      "Sample00629_color\n",
      "Sample00631_color\n",
      "Sample00630_color\n",
      "Sample01054_color\n",
      "Sample01056_color\n",
      "Sample01055_color\n"
     ]
    }
   ],
   "source": [
    "# Montalbano\n",
    "path = '/path/to/montalbano_frame_source' #path to dataset (isolated sequences)\n",
    "target_path = '/path/to/montalbano_preprocessed_frames' #any existing folder\n",
    "process(path, target_path)\n",
    "# GRIT\n",
    "path = '/path/to/grit_frame_source' #path to dataset (isolated sequences)\n",
    "target_path = '/path/to/grit_preprocessed_frames' #any existing folder\n",
    "process(path, target_path, True)"
   ]
  },
  {
   "cell_type": "code",
   "execution_count": null,
   "metadata": {},
   "outputs": [],
   "source": []
  }
 ],
 "metadata": {
  "kernelspec": {
   "display_name": "Python 3",
   "language": "python",
   "name": "python3"
  },
  "language_info": {
   "codemirror_mode": {
    "name": "ipython",
    "version": 3
   },
   "file_extension": ".py",
   "mimetype": "text/x-python",
   "name": "python",
   "nbconvert_exporter": "python",
   "pygments_lexer": "ipython3",
   "version": "3.8.3"
  }
 },
 "nbformat": 4,
 "nbformat_minor": 4
}
